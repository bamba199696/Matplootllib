{
 "cells": [
  {
   "cell_type": "code",
   "execution_count": 1,
   "metadata": {},
   "outputs": [],
   "source": [
    "def lookup_plate (plaque,couleur=None) :\n",
    "    import pandas as pd\n",
    "    fichier = pd.DataFrame({'Plaque': [\"FRQ1234\", \"FRZ9999\", \"FRQ6666\",\"FRQ1234\", \"FRQ9999\", \"FRQ6666\"], \n",
    "                            'Couleur': [\"verte\", \"rouge\", \"verte\",\"noire\", \"verte\", \"verte\"],'Proprietaire': [\"Fred Frequentist\", \"John W. Tukey\", \"Ronald Aylmer Fisher\",\"Karl Pearson\", \"Gertrude Cox\", \"Kirstine Smith\"]})\n",
    "    index = fichier.index.where([i[0:3] == plaque[0:3] for i in fichier.Plaque ]).dropna()\n",
    "    index = fichier.loc[index].index.where([True if couleur == None else j == couleur for j in fichier.loc[index].Couleur ]).dropna()\n",
    "    return fichier.loc[index].Proprietaire"
   ]
  },
  {
   "cell_type": "code",
   "execution_count": 2,
   "metadata": {},
   "outputs": [
    {
     "data": {
      "text/plain": [
       "0.0        Fred Frequentist\n",
       "2.0    Ronald Aylmer Fisher\n",
       "4.0            Gertrude Cox\n",
       "5.0          Kirstine Smith\n",
       "Name: Proprietaire, dtype: object"
      ]
     },
     "execution_count": 2,
     "metadata": {},
     "output_type": "execute_result"
    }
   ],
   "source": [
    "lookup_plate(\"FRQ1234\",\"verte\")"
   ]
  },
  {
   "cell_type": "code",
   "execution_count": 3,
   "metadata": {},
   "outputs": [],
   "source": [
    "import pandas as pd\n",
    "\n",
    "mpr=pd.read_csv(\"mpr.csv\",sep=\";\")\n",
    "\n"
   ]
  },
  {
   "cell_type": "code",
   "execution_count": 4,
   "metadata": {},
   "outputs": [
    {
     "data": {
      "text/html": [
       "<div>\n",
       "<style scoped>\n",
       "    .dataframe tbody tr th:only-of-type {\n",
       "        vertical-align: middle;\n",
       "    }\n",
       "\n",
       "    .dataframe tbody tr th {\n",
       "        vertical-align: top;\n",
       "    }\n",
       "\n",
       "    .dataframe thead th {\n",
       "        text-align: right;\n",
       "    }\n",
       "</style>\n",
       "<table border=\"1\" class=\"dataframe\">\n",
       "  <thead>\n",
       "    <tr style=\"text-align: right;\">\n",
       "      <th></th>\n",
       "      <th>Unnamed: 0</th>\n",
       "      <th>Dog Name</th>\n",
       "      <th>Owner Name</th>\n",
       "      <th>Dog Breed</th>\n",
       "      <th>Missing?</th>\n",
       "    </tr>\n",
       "  </thead>\n",
       "  <tbody>\n",
       "    <tr>\n",
       "      <th>0</th>\n",
       "      <td>0</td>\n",
       "      <td>Duc</td>\n",
       "      <td>Simplon</td>\n",
       "      <td>Golden Retriever</td>\n",
       "      <td>Still Missing</td>\n",
       "    </tr>\n",
       "    <tr>\n",
       "      <th>1</th>\n",
       "      <td>1</td>\n",
       "      <td>Sigmoid</td>\n",
       "      <td>NaN</td>\n",
       "      <td>Dachshund</td>\n",
       "      <td>Still Missing</td>\n",
       "    </tr>\n",
       "    <tr>\n",
       "      <th>2</th>\n",
       "      <td>2</td>\n",
       "      <td>Sparky</td>\n",
       "      <td>Dr. Apache</td>\n",
       "      <td>Border Collie</td>\n",
       "      <td>Found</td>\n",
       "    </tr>\n",
       "    <tr>\n",
       "      <th>3</th>\n",
       "      <td>3</td>\n",
       "      <td>Theorem</td>\n",
       "      <td>Joseph-Louis Lagrange</td>\n",
       "      <td>French Bulldog</td>\n",
       "      <td>Found</td>\n",
       "    </tr>\n",
       "  </tbody>\n",
       "</table>\n",
       "</div>"
      ],
      "text/plain": [
       "   Unnamed: 0 Dog Name             Owner Name         Dog Breed       Missing?\n",
       "0           0      Duc                Simplon  Golden Retriever  Still Missing\n",
       "1           1  Sigmoid                    NaN         Dachshund  Still Missing\n",
       "2           2   Sparky             Dr. Apache     Border Collie          Found\n",
       "3           3  Theorem  Joseph-Louis Lagrange    French Bulldog          Found"
      ]
     },
     "execution_count": 4,
     "metadata": {},
     "output_type": "execute_result"
    }
   ],
   "source": [
    "mpr"
   ]
  },
  {
   "cell_type": "code",
   "execution_count": 5,
   "metadata": {},
   "outputs": [],
   "source": [
    "hauteur_cm = 165\n",
    "\n",
    "plaque1 = \"FRQ123\"\n",
    "\n",
    "duc_robe = \"blond\""
   ]
  },
  {
   "cell_type": "code",
   "execution_count": 6,
   "metadata": {},
   "outputs": [],
   "source": [
    "rancon = pd.read_csv(\"rancon.csv\",sep=\";\") \n",
    "\n",
    "suspect1 = pd.read_csv(\"suspect1.csv\",sep=\";\") \n",
    "\n",
    "suspect2 = pd.read_csv(\"suspect2.csv\",sep=\";\") \n",
    "\n",
    "chiots = pd.read_csv(\"chiots.csv\",sep=\";\") \n",
    "\n",
    "gravier = pd.read_csv(\"gravier.csv\",sep=\";\") "
   ]
  }
 ],
 "metadata": {
  "kernelspec": {
   "display_name": "Python 3",
   "language": "python",
   "name": "python3"
  },
  "language_info": {
   "codemirror_mode": {
    "name": "ipython",
    "version": 3
   },
   "file_extension": ".py",
   "mimetype": "text/x-python",
   "name": "python",
   "nbconvert_exporter": "python",
   "pygments_lexer": "ipython3",
   "version": "3.7.6"
  }
 },
 "nbformat": 4,
 "nbformat_minor": 2
}
